{
 "cells": [
  {
   "cell_type": "code",
   "execution_count": 1,
   "id": "affcc147-b911-47f0-9a0e-843a78a3f6bb",
   "metadata": {},
   "outputs": [],
   "source": [
    "#%\n",
    "import numpy as np\n",
    "import pandas as pd\n",
    "import glob\n",
    "import os"
   ]
  },
  {
   "cell_type": "code",
   "execution_count": 2,
   "id": "032db5f5-566d-4b57-84d0-661b84fefc37",
   "metadata": {},
   "outputs": [],
   "source": [
    "a = np.genfromtxt('/home/vanoorschot/work/fransje/scripts/GLOBAL_SR/catch_id_selected_mmd_lowercase_aus.txt',dtype='str')"
   ]
  },
  {
   "cell_type": "code",
   "execution_count": null,
   "id": "7e7b25ba-4ca7-485f-94ee-05051a2ffdc4",
   "metadata": {},
   "outputs": [],
   "source": [
    "#%% GSWP PR\n",
    "fol1='/home/vanoorschot/work/fransje/scripts/GLOBAL_SR/grid_to_catchments/out_csv_gswp_p/all_years'\n",
    "\n",
    "for i in range(len(a)):\n",
    "    b = a[i]\n",
    "    f = f'/home/vanoorschot/work/fransje/scripts/GLOBAL_SR/p_gswp_timeseries_selected_catchments/daily/{b}_gswp_p_1981_2010.csv'\n",
    "    if os.path.isfile(f):\n",
    "        continue\n",
    "    else:\n",
    "        l = glob.glob(fol1 + f\"*/{b}*.csv\") # all files from catchment b\n",
    "        if len(l)==0:\n",
    "            continue\n",
    "        li=[]\n",
    "        for filename in l:\n",
    "            df = pd.read_csv(filename, index_col=1, header=0)\n",
    "            df = df.drop(columns=['Unnamed: 0'])\n",
    "            df.index = pd.to_datetime(df.index)\n",
    "            li.append(df)\n",
    "\n",
    "        frame = pd.concat(li, axis=0, ignore_index=False)\n",
    "        y_start,y_end = frame.index[0].year, frame.index[-1].year\n",
    "        frame.to_csv(f'/home/vanoorschot/work/fransje/scripts/GLOBAL_SR/p_gswp_timeseries_selected_catchments/daily/{b}_gswp_p_{y_start}_{y_end}.csv')\n",
    "        # print(i)\n"
   ]
  },
  {
   "cell_type": "code",
   "execution_count": 10,
   "id": "425d58d1-5c71-4d9e-9f37-e4a0c3dd0e74",
   "metadata": {},
   "outputs": [],
   "source": [
    "#%% GLEAM\n",
    "fol1='/home/vanoorschot/work/fransje/scripts/GLOBAL_SR/grid_to_catchments/out_csv_gleam_ep/all_years'\n",
    "\n",
    "for i in range(len(a)):\n",
    "    b = a[i]\n",
    "    f = f'/home/vanoorschot/work/fransje/scripts/GLOBAL_SR/ep_gleam_timeseries_selected_catchments/daily/{b}_gleam_ep_*.csv'\n",
    "    if os.path.isfile(f):\n",
    "        continue\n",
    "    else:\n",
    "        l = glob.glob(fol1 + f\"*/{b}*.csv\") # all files from catchment b\n",
    "        if len(l)==0:\n",
    "            continue\n",
    "        li=[]\n",
    "        for filename in l:\n",
    "            df = pd.read_csv(filename, index_col=1, header=0)\n",
    "            df = df.drop(columns=['Unnamed: 0'])\n",
    "            df.index = pd.to_datetime(df.index)\n",
    "            li.append(df)\n",
    "\n",
    "        frame = pd.concat(li, axis=0, ignore_index=False)\n",
    "        y_start,y_end = frame.index[0].year, frame.index[-1].year\n",
    "        frame.to_csv(f'/home/vanoorschot/work/fransje/scripts/GLOBAL_SR/ep_gleam_timeseries_selected_catchments/daily/{b}_gleam_ep_{y_start}_{y_end}.csv')"
   ]
  },
  {
   "cell_type": "code",
   "execution_count": 17,
   "id": "3d2a34bb-1c09-4435-925a-ffe6045d0ccd",
   "metadata": {},
   "outputs": [],
   "source": [
    "# get yearly timeseries P\n",
    "fol='/home/vanoorschot/work/fransje/scripts/GLOBAL_SR/p_gswp_timeseries_selected_catchments/daily'\n",
    "for i in range(len(a)):\n",
    "    b = a[i]\n",
    "    l = glob.glob(fol + f\"*/{b}*.csv\") # all files from catchment b\n",
    "    df = pd.read_csv(l[0], index_col=0)\n",
    "    df.index = pd.to_datetime(df.index)\n",
    "    df_y = df.groupby(pd.Grouper(freq='Y')).mean()\n",
    "    y_start,y_end = df_y.index[0].year, df_y.index[-1].year\n",
    "    df_y.to_csv(f'/home/vanoorschot/work/fransje/scripts/GLOBAL_SR/p_gswp_timeseries_selected_catchments/yearly/{b}_gswp_p_{y_start}_{y_end}.csv')\n"
   ]
  },
  {
   "cell_type": "code",
   "execution_count": 11,
   "id": "419af6c7-61c4-44f5-abd1-e9c329e7e45c",
   "metadata": {},
   "outputs": [],
   "source": [
    "# get yearly timeseries EP\n",
    "fol='/home/vanoorschot/work/fransje/scripts/GLOBAL_SR/ep_gleam_timeseries_selected_catchments/daily'\n",
    "for i in range(len(a)):\n",
    "    b = a[i]\n",
    "    l = glob.glob(fol + f\"*/{b}*.csv\") # all files from catchment b\n",
    "    df = pd.read_csv(l[0], index_col=0)\n",
    "    df.index = pd.to_datetime(df.index)\n",
    "    df_y = df.groupby(pd.Grouper(freq='Y')).mean()\n",
    "    y_start,y_end = df_y.index[0].year, df_y.index[-1].year\n",
    "    df_y.to_csv(f'/home/vanoorschot/work/fransje/scripts/GLOBAL_SR/ep_gleam_timeseries_selected_catchments/yearly/{b}_gleam_ep_{y_start}_{y_end}.csv')\n"
   ]
  },
  {
   "cell_type": "code",
   "execution_count": 12,
   "id": "49312de2-dfb0-411d-8201-0de0ab190c28",
   "metadata": {},
   "outputs": [],
   "source": [
    "# combine dfs Q P EP\n",
    "a = np.genfromtxt('/home/vanoorschot/work/fransje/scripts/GLOBAL_SR/catch_id_selected_mmd_lowercase_aus.txt',dtype='str')\n",
    "b = np.genfromtxt('/home/vanoorschot/work/fransje/scripts/GLOBAL_SR/catch_id_selected_mmd_aus.txt',dtype='str')\n",
    "e = np.genfromtxt('/home/vanoorschot/work/fransje/scripts/GLOBAL_SR/catch_id_aus.txt',dtype='str')\n",
    "\n",
    "fol='/home/vanoorschot/work/fransje/scripts/GLOBAL_SR/'\n",
    "for i in range(len(a)):\n",
    "    c = a[i]\n",
    "    d = b[i]\n",
    "    \n",
    "    f = f'{fol}/p_q_ep_timeseries_selected_catchments/yearly/{c}.csv'\n",
    "    if os.path.isfile(f):\n",
    "        continue\n",
    "    else:\n",
    "        l = glob.glob(f'{fol}/p_gswp_timeseries_selected_catchments/yearly/{c}*.csv')\n",
    "        df_p = pd.read_csv(l[0], index_col=0)\n",
    "        df_p.index = pd.to_datetime(df_p.index)\n",
    "        # print(df_p)\n",
    "\n",
    "        l = glob.glob(f'{fol}/ep_gleam_timeseries_selected_catchments/yearly/{c}*.csv')\n",
    "        df_ep = pd.read_csv(l[0], index_col=0)\n",
    "        df_ep.index = pd.to_datetime(df_ep.index)\n",
    "        # print(df_ep)\n",
    "\n",
    "        l = glob.glob(f'{fol}/q_timeseries_selected_catchments/yearly/{d}*.csv')\n",
    "        df_q = pd.read_csv(l[0], index_col=0)\n",
    "        df_q.index = pd.to_datetime(df_q.index)\n",
    "        # print(df_q)\n",
    "        \n",
    "        #if aus catchments:\n",
    "        if d in e:\n",
    "            df_q = df_q.dropna()\n",
    "            df_q = df_q.rename(columns={'q_mmd':'mean_mmd'})\n",
    "\n",
    "        # get longest timeseries\n",
    "        p_s, p_e = df_p.index[0], df_p.index[-1]\n",
    "        ep_s, ep_e = df_ep.index[0], df_ep.index[-1]\n",
    "        q_s, q_e = df_q.index[0], df_q.index[-1]\n",
    "        df_s, df_e = max(p_s, ep_s, q_s), min(p_e, ep_e, q_e)\n",
    "\n",
    "        # make combined dataframe\n",
    "        df = pd.DataFrame(index = pd.date_range(df_s, df_e, freq='Y'), columns=['q','p','ep'])\n",
    "        df.p = df_p['precipitation_flux']\n",
    "        df.ep = df_ep['Potential evaporation from GLEAM v3.5a']\n",
    "        df.q = df_q['mean_mmd']\n",
    "        df.to_csv(f'{fol}/p_q_ep_timeseries_selected_catchments/yearly/{c}.csv')\n"
   ]
  },
  {
   "cell_type": "code",
   "execution_count": 13,
   "id": "4d1c98db-59c3-4409-8b42-18a9fccc3882",
   "metadata": {},
   "outputs": [],
   "source": [
    "# long term means\n",
    "fol='/home/vanoorschot/work/fransje/scripts/GLOBAL_SR/'\n",
    "df_m = pd.DataFrame(index=a, columns=['q','p','ep','y_start','y_end'])\n",
    "\n",
    "for i in range(len(a)):\n",
    "    b = a[i]\n",
    "    l = glob.glob(f'{fol}p_q_ep_timeseries_selected_catchments/yearly/{b}*.csv')\n",
    "    df = pd.read_csv(l[0], index_col=0)\n",
    "    df.index = pd.to_datetime(df.index)\n",
    "    df_m.loc[b].q = df.q.mean()\n",
    "    df_m.loc[b].ep = df.ep.mean()\n",
    "    df_m.loc[b].p = df.p.mean()\n",
    "    df_m.loc[b].y_start = df.index[0].year\n",
    "    df_m.loc[b].y_end = df.index[-1].year\n",
    "df_m.to_csv(f'{fol}/p_q_ep_timeseries_selected_catchments/mean_q_p_ep.csv')"
   ]
  },
  {
   "cell_type": "code",
   "execution_count": 14,
   "id": "2a6beee0-b242-4ac8-a921-284b5bab29c3",
   "metadata": {},
   "outputs": [],
   "source": [
    "# combine p and ep daily dataframes\n",
    "folep='/home/vanoorschot/work/fransje/scripts/GLOBAL_SR/ep_gleam_timeseries_selected_catchments/daily'\n",
    "folp='/home/vanoorschot/work/fransje/scripts/GLOBAL_SR/p_gswp_timeseries_selected_catchments/daily'\n",
    "a = np.genfromtxt('/home/vanoorschot/work/fransje/scripts/GLOBAL_SR/catch_id_selected_mmd_lowercase_aus.txt',dtype='str')\n",
    "\n",
    "for i in range(len(a)):\n",
    "    b = a[i]\n",
    "    \n",
    "    l = glob.glob(folep + f\"*/{b}*.csv\") # all files from catchment b\n",
    "    df_ep = pd.read_csv(l[0], index_col=0)\n",
    "    df_ep.index = pd.to_datetime(df_ep.index)\n",
    "    \n",
    "    l = glob.glob(folp + f\"*/{b}*.csv\") # all files from catchment b\n",
    "    df_p = pd.read_csv(l[0], index_col=0)\n",
    "    df_p.index = pd.to_datetime(df_p.index)\n",
    "    \n",
    "    # get longest timeseries\n",
    "    p_s, p_e = df_p.index[0], df_p.index[-1]\n",
    "    ep_s, ep_e = df_ep.index[0], df_ep.index[-1]\n",
    "    df_s, df_e = max(p_s, ep_s), min(p_e, ep_e)\n",
    "    \n",
    "    df = pd.DataFrame(index = pd.date_range(df_s, df_e, freq='d'), columns=['p','ep'])\n",
    "    df.p = df_p['precipitation_flux']\n",
    "    df.ep = df_ep['Potential evaporation from GLEAM v3.5a']\n",
    "    \n",
    "    df.to_csv(f'/home/vanoorschot/work/fransje/scripts/GLOBAL_SR/p_ep_timeseries_selected_catchments/daily/{b}.csv')\n",
    "    \n",
    "    "
   ]
  },
  {
   "cell_type": "code",
   "execution_count": 15,
   "id": "e3046952-46da-4dbb-86c5-513b4c942843",
   "metadata": {},
   "outputs": [
    {
     "name": "stdout",
     "output_type": "stream",
     "text": [
      "                       p        ep\n",
      "1981-01-01  0.000000e+00  4.967766\n",
      "1981-01-02  0.000000e+00  4.300149\n",
      "1981-01-03  0.000000e+00  4.303851\n",
      "1981-01-04  0.000000e+00  4.779653\n",
      "1981-01-05  4.307608e-04  4.477086\n",
      "...                  ...       ...\n",
      "2009-12-27  0.000000e+00  3.856536\n",
      "2009-12-28  0.000000e+00  4.854429\n",
      "2009-12-29  1.304845e-01  5.020740\n",
      "2009-12-30  4.568194e-07  4.965876\n",
      "2009-12-31  4.815277e-02  4.944347\n",
      "\n",
      "[10592 rows x 2 columns]\n"
     ]
    }
   ],
   "source": [
    "print(df)"
   ]
  },
  {
   "cell_type": "code",
   "execution_count": null,
   "id": "4f79277c-bb35-4563-a04f-9021e4f049a5",
   "metadata": {},
   "outputs": [],
   "source": []
  }
 ],
 "metadata": {
  "kernelspec": {
   "display_name": "Python 3 (ipykernel)",
   "language": "python",
   "name": "python3"
  },
  "language_info": {
   "codemirror_mode": {
    "name": "ipython",
    "version": 3
   },
   "file_extension": ".py",
   "mimetype": "text/x-python",
   "name": "python",
   "nbconvert_exporter": "python",
   "pygments_lexer": "ipython3",
   "version": "3.9.7"
  }
 },
 "nbformat": 4,
 "nbformat_minor": 5
}
